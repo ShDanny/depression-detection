{
 "cells": [
  {
   "cell_type": "code",
   "execution_count": null,
   "id": "7d984177",
   "metadata": {},
   "outputs": [],
   "source": []
  },
  {
   "cell_type": "code",
   "execution_count": 1,
   "id": "6178b0ec",
   "metadata": {},
   "outputs": [
    {
     "name": "stderr",
     "output_type": "stream",
     "text": [
      "Building prefix dict from the default dictionary ...\n",
      "Loading model from cache C:\\Users\\lenovo\\AppData\\Local\\Temp\\jieba.cache\n",
      "Loading model cost 0.755 seconds.\n",
      "Prefix dict has been built successfully.\n"
     ]
    }
   ],
   "source": [
    "import json\n",
    "import pandas as pd\n",
    "\n",
    "# data clean\n",
    "import re # punctuation,data clean\n",
    "\n",
    "# tokenization and feature extraction\n",
    "# install expacted word bag for jieba\n",
    "import jieba \n",
    "jieba.load_userdict('jieba_expanded_dict.txt')\n",
    "import jieba.analyse # TF-IDF \n",
    "import numpy as np # TF-IDF \n",
    "from sklearn.feature_extraction.text import TfidfVectorizer # TF-IDF\n",
    "\n",
    "# models\n",
    "from sklearn.ensemble import RandomForestClassifier # RF\n",
    "from sklearn.model_selection import train_test_split\n",
    "from sklearn.metrics import accuracy_score, precision_score, recall_score, f1_score\n",
    "from sklearn.model_selection import cross_val_score\n",
    "from sklearn.svm import SVC # SVM\n",
    "from sklearn.neural_network import MLPClassifier # MLP\n",
    "from sklearn.model_selection import RandomizedSearchCV # MLP\n",
    "\n",
    "\n",
    "# analyse\n",
    "import seaborn as sns # density curve \n",
    "import matplotlib.pyplot as plt # pie chart"
   ]
  },
  {
   "cell_type": "code",
   "execution_count": 2,
   "id": "6ba98176",
   "metadata": {},
   "outputs": [],
   "source": [
    "balanced_df_all_cleaned_tokenization = pd.read_csv('balanced_df_all_cleaned_tokenization.csv')"
   ]
  },
  {
   "cell_type": "code",
   "execution_count": 3,
   "id": "5d1bfbf4",
   "metadata": {},
   "outputs": [],
   "source": [
    "balanced_df_all_cleaned_tokenization2 = balanced_df_all_cleaned_tokenization.copy()"
   ]
  },
  {
   "cell_type": "code",
   "execution_count": 14,
   "id": "ccdc1f91",
   "metadata": {},
   "outputs": [
    {
     "data": {
      "text/html": [
       "<div>\n",
       "<style scoped>\n",
       "    .dataframe tbody tr th:only-of-type {\n",
       "        vertical-align: middle;\n",
       "    }\n",
       "\n",
       "    .dataframe tbody tr th {\n",
       "        vertical-align: top;\n",
       "    }\n",
       "\n",
       "    .dataframe thead th {\n",
       "        text-align: right;\n",
       "    }\n",
       "</style>\n",
       "<table border=\"1\" class=\"dataframe\">\n",
       "  <thead>\n",
       "    <tr style=\"text-align: right;\">\n",
       "      <th></th>\n",
       "      <th>ID</th>\n",
       "      <th>label</th>\n",
       "      <th>tweet_content</th>\n",
       "    </tr>\n",
       "  </thead>\n",
       "  <tbody>\n",
       "    <tr>\n",
       "      <th>0</th>\n",
       "      <td>12818</td>\n",
       "      <td>0</td>\n",
       "      <td>机 掉落 样 营养成分 表审 姥爷 手机 里 发现 两张 片 喜欢 号弃 博久 定时 出没 ...</td>\n",
       "    </tr>\n",
       "    <tr>\n",
       "      <th>1</th>\n",
       "      <td>15046</td>\n",
       "      <td>0</td>\n",
       "      <td>平安 健康 乐观 开心 快乐 关注 力量 发声 入 携手 久 没见 日常 外国 居住 条例 ...</td>\n",
       "    </tr>\n",
       "    <tr>\n",
       "      <th>2</th>\n",
       "      <td>8860</td>\n",
       "      <td>0</td>\n",
       "      <td>翻转 开运 卡 红包 刚刚 获送 金 红包 集齐 开运 卡夕 瓜分 亿 红包 玩 戳 新年 ...</td>\n",
       "    </tr>\n",
       "    <tr>\n",
       "      <th>3</th>\n",
       "      <td>3523</td>\n",
       "      <td>0</td>\n",
       "      <td>蒽 确实 确实 确实 确实 确实 确实 终 说句话 确实 收回 夸夸 工作 太 白天 吐槽 ...</td>\n",
       "    </tr>\n",
       "    <tr>\n",
       "      <th>4</th>\n",
       "      <td>15252</td>\n",
       "      <td>0</td>\n",
       "      <td>永远 没 发生 事情 担心 握美 明天 叶 紫檀 手串 暖金盘 里 点 酥 山拟 君王 子细...</td>\n",
       "    </tr>\n",
       "    <tr>\n",
       "      <th>...</th>\n",
       "      <td>...</td>\n",
       "      <td>...</td>\n",
       "      <td>...</td>\n",
       "    </tr>\n",
       "    <tr>\n",
       "      <th>20645</th>\n",
       "      <td>24223</td>\n",
       "      <td>1</td>\n",
       "      <td>思 诺思 舒乐安定 代开 疫情 期间 开药 困难 开药 断药 关注 南京 兼职 超话志道 合...</td>\n",
       "    </tr>\n",
       "    <tr>\n",
       "      <th>20646</th>\n",
       "      <td>29630</td>\n",
       "      <td>1</td>\n",
       "      <td>讨厌 公共交通 海底 低谷 期熬 温柔 次 教训 快乐 早 没 没 唯独 快乐 想 瞬间 快...</td>\n",
       "    </tr>\n",
       "    <tr>\n",
       "      <th>20647</th>\n",
       "      <td>30838</td>\n",
       "      <td>1</td>\n",
       "      <td>熬 月夜 周 天天 早 胸闷 气短 难真 熬 吃药 旧 失眠 效 时间 越 越短 候觉 精神...</td>\n",
       "    </tr>\n",
       "    <tr>\n",
       "      <th>20648</th>\n",
       "      <td>28498</td>\n",
       "      <td>1</td>\n",
       "      <td>陕西 黑布 林 天然 优质 产 精选 果 肉质 酸甜 汁 味道鲜美 果型 丰满 农药 催熟 ...</td>\n",
       "    </tr>\n",
       "    <tr>\n",
       "      <th>20649</th>\n",
       "      <td>23072</td>\n",
       "      <td>1</td>\n",
       "      <td>滴滴 风车 禁止 女性 晚间 时段 坐件 事 恶劣 商业性 性 歧视 暗示 错误观念 反获 ...</td>\n",
       "    </tr>\n",
       "  </tbody>\n",
       "</table>\n",
       "<p>20650 rows × 3 columns</p>\n",
       "</div>"
      ],
      "text/plain": [
       "          ID  label                                      tweet_content\n",
       "0      12818      0  机 掉落 样 营养成分 表审 姥爷 手机 里 发现 两张 片 喜欢 号弃 博久 定时 出没 ...\n",
       "1      15046      0  平安 健康 乐观 开心 快乐 关注 力量 发声 入 携手 久 没见 日常 外国 居住 条例 ...\n",
       "2       8860      0  翻转 开运 卡 红包 刚刚 获送 金 红包 集齐 开运 卡夕 瓜分 亿 红包 玩 戳 新年 ...\n",
       "3       3523      0  蒽 确实 确实 确实 确实 确实 确实 终 说句话 确实 收回 夸夸 工作 太 白天 吐槽 ...\n",
       "4      15252      0  永远 没 发生 事情 担心 握美 明天 叶 紫檀 手串 暖金盘 里 点 酥 山拟 君王 子细...\n",
       "...      ...    ...                                                ...\n",
       "20645  24223      1  思 诺思 舒乐安定 代开 疫情 期间 开药 困难 开药 断药 关注 南京 兼职 超话志道 合...\n",
       "20646  29630      1  讨厌 公共交通 海底 低谷 期熬 温柔 次 教训 快乐 早 没 没 唯独 快乐 想 瞬间 快...\n",
       "20647  30838      1  熬 月夜 周 天天 早 胸闷 气短 难真 熬 吃药 旧 失眠 效 时间 越 越短 候觉 精神...\n",
       "20648  28498      1  陕西 黑布 林 天然 优质 产 精选 果 肉质 酸甜 汁 味道鲜美 果型 丰满 农药 催熟 ...\n",
       "20649  23072      1  滴滴 风车 禁止 女性 晚间 时段 坐件 事 恶劣 商业性 性 歧视 暗示 错误观念 反获 ...\n",
       "\n",
       "[20650 rows x 3 columns]"
      ]
     },
     "execution_count": 14,
     "metadata": {},
     "output_type": "execute_result"
    }
   ],
   "source": [
    "balanced_df_all_cleaned_tokenization2"
   ]
  },
  {
   "cell_type": "code",
   "execution_count": 43,
   "id": "2e7996e8",
   "metadata": {},
   "outputs": [
    {
     "name": "stdout",
     "output_type": "stream",
     "text": [
      "          ID  label                                      tweet_content\n",
      "10148  14076      0  燃强 兵夜 集结 号响 易队 运筹帷幄 决胜 街舞 舞台 易燃 装置 蓄势 发 拭目 手指 ...\n",
      "1692    8412      0  市 持续 雨雪 冰冻 天气 交通 出行 情况 备受 关注 日 午时 许记 怀化市 交通运输 ...\n",
      "2692    2749      0  王国 韩国 古代 版 丧尸 篇季 宣传 季节 奏 紧凑 容错 画面 精彩 期季 唐顿 庄园 ...\n",
      "7703    3883      0  穿 秋衣 秋裤 日 辈子 父母 条件 付出 正馆 快手 视频 分享 视频 日 阳光 开朗 乐...\n",
      "321    20308      0  前乐视 航天 金税 老说 工商 税务 税务 厅 卖 税控 盘 开票 税盘 厂家 说 税务 关...\n",
      "...      ...    ...                                                ...\n",
      "13388  27339      1  日岁 女子 岛美奈 年前 诊断 出患重 系统 退化 症 病原 明 没效 治疗 方法 终 身体...\n",
      "17587  30332      1  隐私 没错 游戏 憨批 蠢批 毛病 真 傻逼 焦灼 早睡 早 六盘水 妈 医院 医生 真 脾...\n",
      "13695  23484      1  关注 组合 超话 伙伴 快 组合 超话 聊聊 戳 里 组合 关注 超话 伙伴 快 超话 聊聊...\n",
      "13812  28741      1  恶心 家然 神病觉 难受 投入 时间 精力 没想 东西 瞬间 失落 灌满 样子 感值 确实 ...\n",
      "10636  27569      1  五 快乐 橙子 劈叉 心 西装 弹 拍图 成子 太爱 成子 拍 翻旧 点点 找 细节 玩 没...\n",
      "\n",
      "[100 rows x 3 columns]\n"
     ]
    }
   ],
   "source": [
    "# 取50行label为0，50行label为1\n",
    "df_label_0 = balanced_df_all_cleaned_tokenization2[balanced_df_all_cleaned_tokenization2['label'] == 0].sample(n=50, random_state=42)\n",
    "df_label_1 = balanced_df_all_cleaned_tokenization2[balanced_df_all_cleaned_tokenization2['label'] == 1].sample(n=50, random_state=42)\n",
    "\n",
    "# 合并两个dataframe\n",
    "balanced_df_all_cleaned_tokenization2 = pd.concat([df_label_0, df_label_1])\n",
    "\n",
    "print(balanced_df_all_cleaned_tokenization2)"
   ]
  },
  {
   "cell_type": "code",
   "execution_count": 15,
   "id": "6d5143b9",
   "metadata": {},
   "outputs": [],
   "source": [
    "# replace NaN values with an empty string\n",
    "balanced_df_all_cleaned_tokenization2['tweet_content'] = balanced_df_all_cleaned_tokenization2['tweet_content'].fillna('')"
   ]
  },
  {
   "cell_type": "code",
   "execution_count": 16,
   "id": "7a0ce316",
   "metadata": {},
   "outputs": [],
   "source": [
    "# create a TfidfVectorizer object 将tweet_content列作为特征向量化\n",
    "vectorizer = TfidfVectorizer()"
   ]
  },
  {
   "cell_type": "code",
   "execution_count": 17,
   "id": "af2455dd",
   "metadata": {},
   "outputs": [],
   "source": [
    "# fit and transform the data\n",
    "X = vectorizer.fit_transform(balanced_df_all_cleaned_tokenization2['tweet_content'])"
   ]
  },
  {
   "cell_type": "code",
   "execution_count": 18,
   "id": "a3730926",
   "metadata": {},
   "outputs": [],
   "source": [
    "# 将label列作为目标变量\n",
    "y = balanced_df_all_cleaned_tokenization2['label']"
   ]
  },
  {
   "cell_type": "code",
   "execution_count": 19,
   "id": "c7258707",
   "metadata": {},
   "outputs": [],
   "source": [
    "X_train, X_test, y_train, y_test = train_test_split(X, y, test_size=0.3)"
   ]
  },
  {
   "cell_type": "code",
   "execution_count": 20,
   "id": "ec5368d4",
   "metadata": {},
   "outputs": [],
   "source": [
    "from sklearn.neural_network import MLPClassifier\n",
    "from sklearn.model_selection import RandomizedSearchCV"
   ]
  },
  {
   "cell_type": "code",
   "execution_count": 36,
   "id": "f1554133",
   "metadata": {},
   "outputs": [],
   "source": [
    "# test parameters"
   ]
  },
  {
   "cell_type": "code",
   "execution_count": 50,
   "id": "8edc2da1",
   "metadata": {},
   "outputs": [],
   "source": [
    "# 定义超参数空间\n",
    "param_dist = {\n",
    "    'hidden_layer_sizes': [(50,), (100,), (150,)],\n",
    "    'activation': ['logistic', 'tanh', 'relu'],\n",
    "    'solver': ['sgd', 'adam'],\n",
    "    'max_iter': [1000, 1500, 2000]\n",
    "}"
   ]
  },
  {
   "cell_type": "code",
   "execution_count": 51,
   "id": "123af190",
   "metadata": {},
   "outputs": [
    {
     "name": "stderr",
     "output_type": "stream",
     "text": [
      "C:\\Users\\lenovo\\anaconda3\\lib\\site-packages\\sklearn\\neural_network\\_multilayer_perceptron.py:686: ConvergenceWarning: Stochastic Optimizer: Maximum iterations (2000) reached and the optimization hasn't converged yet.\n",
      "  warnings.warn(\n"
     ]
    },
    {
     "data": {
      "text/html": [
       "<style>#sk-container-id-3 {color: black;background-color: white;}#sk-container-id-3 pre{padding: 0;}#sk-container-id-3 div.sk-toggleable {background-color: white;}#sk-container-id-3 label.sk-toggleable__label {cursor: pointer;display: block;width: 100%;margin-bottom: 0;padding: 0.3em;box-sizing: border-box;text-align: center;}#sk-container-id-3 label.sk-toggleable__label-arrow:before {content: \"▸\";float: left;margin-right: 0.25em;color: #696969;}#sk-container-id-3 label.sk-toggleable__label-arrow:hover:before {color: black;}#sk-container-id-3 div.sk-estimator:hover label.sk-toggleable__label-arrow:before {color: black;}#sk-container-id-3 div.sk-toggleable__content {max-height: 0;max-width: 0;overflow: hidden;text-align: left;background-color: #f0f8ff;}#sk-container-id-3 div.sk-toggleable__content pre {margin: 0.2em;color: black;border-radius: 0.25em;background-color: #f0f8ff;}#sk-container-id-3 input.sk-toggleable__control:checked~div.sk-toggleable__content {max-height: 200px;max-width: 100%;overflow: auto;}#sk-container-id-3 input.sk-toggleable__control:checked~label.sk-toggleable__label-arrow:before {content: \"▾\";}#sk-container-id-3 div.sk-estimator input.sk-toggleable__control:checked~label.sk-toggleable__label {background-color: #d4ebff;}#sk-container-id-3 div.sk-label input.sk-toggleable__control:checked~label.sk-toggleable__label {background-color: #d4ebff;}#sk-container-id-3 input.sk-hidden--visually {border: 0;clip: rect(1px 1px 1px 1px);clip: rect(1px, 1px, 1px, 1px);height: 1px;margin: -1px;overflow: hidden;padding: 0;position: absolute;width: 1px;}#sk-container-id-3 div.sk-estimator {font-family: monospace;background-color: #f0f8ff;border: 1px dotted black;border-radius: 0.25em;box-sizing: border-box;margin-bottom: 0.5em;}#sk-container-id-3 div.sk-estimator:hover {background-color: #d4ebff;}#sk-container-id-3 div.sk-parallel-item::after {content: \"\";width: 100%;border-bottom: 1px solid gray;flex-grow: 1;}#sk-container-id-3 div.sk-label:hover label.sk-toggleable__label {background-color: #d4ebff;}#sk-container-id-3 div.sk-serial::before {content: \"\";position: absolute;border-left: 1px solid gray;box-sizing: border-box;top: 0;bottom: 0;left: 50%;z-index: 0;}#sk-container-id-3 div.sk-serial {display: flex;flex-direction: column;align-items: center;background-color: white;padding-right: 0.2em;padding-left: 0.2em;position: relative;}#sk-container-id-3 div.sk-item {position: relative;z-index: 1;}#sk-container-id-3 div.sk-parallel {display: flex;align-items: stretch;justify-content: center;background-color: white;position: relative;}#sk-container-id-3 div.sk-item::before, #sk-container-id-3 div.sk-parallel-item::before {content: \"\";position: absolute;border-left: 1px solid gray;box-sizing: border-box;top: 0;bottom: 0;left: 50%;z-index: -1;}#sk-container-id-3 div.sk-parallel-item {display: flex;flex-direction: column;z-index: 1;position: relative;background-color: white;}#sk-container-id-3 div.sk-parallel-item:first-child::after {align-self: flex-end;width: 50%;}#sk-container-id-3 div.sk-parallel-item:last-child::after {align-self: flex-start;width: 50%;}#sk-container-id-3 div.sk-parallel-item:only-child::after {width: 0;}#sk-container-id-3 div.sk-dashed-wrapped {border: 1px dashed gray;margin: 0 0.4em 0.5em 0.4em;box-sizing: border-box;padding-bottom: 0.4em;background-color: white;}#sk-container-id-3 div.sk-label label {font-family: monospace;font-weight: bold;display: inline-block;line-height: 1.2em;}#sk-container-id-3 div.sk-label-container {text-align: center;}#sk-container-id-3 div.sk-container {/* jupyter's `normalize.less` sets `[hidden] { display: none; }` but bootstrap.min.css set `[hidden] { display: none !important; }` so we also need the `!important` here to be able to override the default hidden behavior on the sphinx rendered scikit-learn.org. See: https://github.com/scikit-learn/scikit-learn/issues/21755 */display: inline-block !important;position: relative;}#sk-container-id-3 div.sk-text-repr-fallback {display: none;}</style><div id=\"sk-container-id-3\" class=\"sk-top-container\"><div class=\"sk-text-repr-fallback\"><pre>RandomizedSearchCV(cv=5, estimator=MLPClassifier(),\n",
       "                   param_distributions={&#x27;activation&#x27;: [&#x27;logistic&#x27;, &#x27;tanh&#x27;,\n",
       "                                                       &#x27;relu&#x27;],\n",
       "                                        &#x27;hidden_layer_sizes&#x27;: [(50,), (100,),\n",
       "                                                               (150,)],\n",
       "                                        &#x27;max_iter&#x27;: [1000, 1500, 2000],\n",
       "                                        &#x27;solver&#x27;: [&#x27;sgd&#x27;, &#x27;adam&#x27;]})</pre><b>In a Jupyter environment, please rerun this cell to show the HTML representation or trust the notebook. <br />On GitHub, the HTML representation is unable to render, please try loading this page with nbviewer.org.</b></div><div class=\"sk-container\" hidden><div class=\"sk-item sk-dashed-wrapped\"><div class=\"sk-label-container\"><div class=\"sk-label sk-toggleable\"><input class=\"sk-toggleable__control sk-hidden--visually\" id=\"sk-estimator-id-5\" type=\"checkbox\" ><label for=\"sk-estimator-id-5\" class=\"sk-toggleable__label sk-toggleable__label-arrow\">RandomizedSearchCV</label><div class=\"sk-toggleable__content\"><pre>RandomizedSearchCV(cv=5, estimator=MLPClassifier(),\n",
       "                   param_distributions={&#x27;activation&#x27;: [&#x27;logistic&#x27;, &#x27;tanh&#x27;,\n",
       "                                                       &#x27;relu&#x27;],\n",
       "                                        &#x27;hidden_layer_sizes&#x27;: [(50,), (100,),\n",
       "                                                               (150,)],\n",
       "                                        &#x27;max_iter&#x27;: [1000, 1500, 2000],\n",
       "                                        &#x27;solver&#x27;: [&#x27;sgd&#x27;, &#x27;adam&#x27;]})</pre></div></div></div><div class=\"sk-parallel\"><div class=\"sk-parallel-item\"><div class=\"sk-item\"><div class=\"sk-label-container\"><div class=\"sk-label sk-toggleable\"><input class=\"sk-toggleable__control sk-hidden--visually\" id=\"sk-estimator-id-6\" type=\"checkbox\" ><label for=\"sk-estimator-id-6\" class=\"sk-toggleable__label sk-toggleable__label-arrow\">estimator: MLPClassifier</label><div class=\"sk-toggleable__content\"><pre>MLPClassifier()</pre></div></div></div><div class=\"sk-serial\"><div class=\"sk-item\"><div class=\"sk-estimator sk-toggleable\"><input class=\"sk-toggleable__control sk-hidden--visually\" id=\"sk-estimator-id-7\" type=\"checkbox\" ><label for=\"sk-estimator-id-7\" class=\"sk-toggleable__label sk-toggleable__label-arrow\">MLPClassifier</label><div class=\"sk-toggleable__content\"><pre>MLPClassifier()</pre></div></div></div></div></div></div></div></div></div></div>"
      ],
      "text/plain": [
       "RandomizedSearchCV(cv=5, estimator=MLPClassifier(),\n",
       "                   param_distributions={'activation': ['logistic', 'tanh',\n",
       "                                                       'relu'],\n",
       "                                        'hidden_layer_sizes': [(50,), (100,),\n",
       "                                                               (150,)],\n",
       "                                        'max_iter': [1000, 1500, 2000],\n",
       "                                        'solver': ['sgd', 'adam']})"
      ]
     },
     "execution_count": 51,
     "metadata": {},
     "output_type": "execute_result"
    }
   ],
   "source": [
    "# 定义分类器\n",
    "mlp = MLPClassifier()\n",
    "# 使用RandomizedSearchCV搜索最佳超参数组合\n",
    "# GridSearchCV和RandomizedSearchCV都是用于超参数调优的方法，但它们的实现方式不同。\n",
    "# GridSearchCV会遍历所有可能的参数组合，而RandomizedSearchCV则会随机选择一些参数组合进行训练。\n",
    "# 当数据集较小时，我们可以使用GridSearchCV，但当数据集较大时，我们可以使用RandomizedSearchCV\n",
    "random_search = RandomizedSearchCV(mlp, param_distributions=param_dist, cv=5)\n",
    "random_search.fit(X_train, y_train)\n"
   ]
  },
  {
   "cell_type": "code",
   "execution_count": 52,
   "id": "2c3c7b7e",
   "metadata": {},
   "outputs": [
    {
     "name": "stdout",
     "output_type": "stream",
     "text": [
      "Best parameters: {'solver': 'adam', 'max_iter': 2000, 'hidden_layer_sizes': (100,), 'activation': 'tanh'}\n",
      "Best cross-validation score: 0.87\n"
     ]
    }
   ],
   "source": [
    "# 输出最佳超参数组合和对应的得分\n",
    "print(\"Best parameters: {}\".format(random_search.best_params_))\n",
    "print(\"Best cross-validation score: {:.2f}\".format(random_search.best_score_))"
   ]
  },
  {
   "cell_type": "code",
   "execution_count": 53,
   "id": "395344d6",
   "metadata": {},
   "outputs": [],
   "source": [
    "# 使用最佳超参数组合训练模型并预测测试集的label\n",
    "mlp_best = MLPClassifier(**random_search.best_params_)\n",
    "mlp_best.fit(X_train, y_train)\n",
    "y_pred_mlp_best = mlp_best.predict(X_test)\n"
   ]
  },
  {
   "cell_type": "code",
   "execution_count": 54,
   "id": "cf1911d3",
   "metadata": {},
   "outputs": [],
   "source": [
    "# 计算MLP模型评估指标\n",
    "accuracy_mlp_best = accuracy_score(y_test, y_pred_mlp_best)\n",
    "precision_mlp_best = precision_score(y_test, y_pred_mlp_best)\n",
    "recall_mlp_best = recall_score(y_test, y_pred_mlp_best)\n",
    "f1_mlp_best = f1_score(y_test, y_pred_mlp_best)\n"
   ]
  },
  {
   "cell_type": "code",
   "execution_count": 55,
   "id": "8f850e0c",
   "metadata": {},
   "outputs": [
    {
     "name": "stdout",
     "output_type": "stream",
     "text": [
      "\n",
      "Multi-layer Perceptron with best hyperparameters:\n",
      "Accuracy: 0.9\n",
      "Precision: 0.9230769230769231\n",
      "Recall: 0.8571428571428571\n",
      "F1 Score: 0.888888888888889\n"
     ]
    }
   ],
   "source": [
    "print('\\nMulti-layer Perceptron with best hyperparameters:')\n",
    "print('Accuracy:', accuracy_mlp_best)\n",
    "print('Precision:', precision_mlp_best)\n",
    "print('Recall:', recall_mlp_best)\n",
    "print('F1 Score:', f1_mlp_best)"
   ]
  },
  {
   "cell_type": "code",
   "execution_count": 35,
   "id": "48a2ede2",
   "metadata": {},
   "outputs": [],
   "source": [
    "# don't test parameters"
   ]
  },
  {
   "cell_type": "code",
   "execution_count": 27,
   "id": "9c8094a6",
   "metadata": {},
   "outputs": [],
   "source": [
    "mlp = MLPClassifier(max_iter=10, hidden_layer_sizes=(10,), batch_size=128)"
   ]
  },
  {
   "cell_type": "code",
   "execution_count": 28,
   "id": "7c013db5",
   "metadata": {},
   "outputs": [
    {
     "name": "stderr",
     "output_type": "stream",
     "text": [
      "C:\\Users\\lenovo\\anaconda3\\lib\\site-packages\\sklearn\\neural_network\\_multilayer_perceptron.py:686: ConvergenceWarning: Stochastic Optimizer: Maximum iterations (10) reached and the optimization hasn't converged yet.\n",
      "  warnings.warn(\n"
     ]
    },
    {
     "data": {
      "text/html": [
       "<style>#sk-container-id-3 {color: black;background-color: white;}#sk-container-id-3 pre{padding: 0;}#sk-container-id-3 div.sk-toggleable {background-color: white;}#sk-container-id-3 label.sk-toggleable__label {cursor: pointer;display: block;width: 100%;margin-bottom: 0;padding: 0.3em;box-sizing: border-box;text-align: center;}#sk-container-id-3 label.sk-toggleable__label-arrow:before {content: \"▸\";float: left;margin-right: 0.25em;color: #696969;}#sk-container-id-3 label.sk-toggleable__label-arrow:hover:before {color: black;}#sk-container-id-3 div.sk-estimator:hover label.sk-toggleable__label-arrow:before {color: black;}#sk-container-id-3 div.sk-toggleable__content {max-height: 0;max-width: 0;overflow: hidden;text-align: left;background-color: #f0f8ff;}#sk-container-id-3 div.sk-toggleable__content pre {margin: 0.2em;color: black;border-radius: 0.25em;background-color: #f0f8ff;}#sk-container-id-3 input.sk-toggleable__control:checked~div.sk-toggleable__content {max-height: 200px;max-width: 100%;overflow: auto;}#sk-container-id-3 input.sk-toggleable__control:checked~label.sk-toggleable__label-arrow:before {content: \"▾\";}#sk-container-id-3 div.sk-estimator input.sk-toggleable__control:checked~label.sk-toggleable__label {background-color: #d4ebff;}#sk-container-id-3 div.sk-label input.sk-toggleable__control:checked~label.sk-toggleable__label {background-color: #d4ebff;}#sk-container-id-3 input.sk-hidden--visually {border: 0;clip: rect(1px 1px 1px 1px);clip: rect(1px, 1px, 1px, 1px);height: 1px;margin: -1px;overflow: hidden;padding: 0;position: absolute;width: 1px;}#sk-container-id-3 div.sk-estimator {font-family: monospace;background-color: #f0f8ff;border: 1px dotted black;border-radius: 0.25em;box-sizing: border-box;margin-bottom: 0.5em;}#sk-container-id-3 div.sk-estimator:hover {background-color: #d4ebff;}#sk-container-id-3 div.sk-parallel-item::after {content: \"\";width: 100%;border-bottom: 1px solid gray;flex-grow: 1;}#sk-container-id-3 div.sk-label:hover label.sk-toggleable__label {background-color: #d4ebff;}#sk-container-id-3 div.sk-serial::before {content: \"\";position: absolute;border-left: 1px solid gray;box-sizing: border-box;top: 0;bottom: 0;left: 50%;z-index: 0;}#sk-container-id-3 div.sk-serial {display: flex;flex-direction: column;align-items: center;background-color: white;padding-right: 0.2em;padding-left: 0.2em;position: relative;}#sk-container-id-3 div.sk-item {position: relative;z-index: 1;}#sk-container-id-3 div.sk-parallel {display: flex;align-items: stretch;justify-content: center;background-color: white;position: relative;}#sk-container-id-3 div.sk-item::before, #sk-container-id-3 div.sk-parallel-item::before {content: \"\";position: absolute;border-left: 1px solid gray;box-sizing: border-box;top: 0;bottom: 0;left: 50%;z-index: -1;}#sk-container-id-3 div.sk-parallel-item {display: flex;flex-direction: column;z-index: 1;position: relative;background-color: white;}#sk-container-id-3 div.sk-parallel-item:first-child::after {align-self: flex-end;width: 50%;}#sk-container-id-3 div.sk-parallel-item:last-child::after {align-self: flex-start;width: 50%;}#sk-container-id-3 div.sk-parallel-item:only-child::after {width: 0;}#sk-container-id-3 div.sk-dashed-wrapped {border: 1px dashed gray;margin: 0 0.4em 0.5em 0.4em;box-sizing: border-box;padding-bottom: 0.4em;background-color: white;}#sk-container-id-3 div.sk-label label {font-family: monospace;font-weight: bold;display: inline-block;line-height: 1.2em;}#sk-container-id-3 div.sk-label-container {text-align: center;}#sk-container-id-3 div.sk-container {/* jupyter's `normalize.less` sets `[hidden] { display: none; }` but bootstrap.min.css set `[hidden] { display: none !important; }` so we also need the `!important` here to be able to override the default hidden behavior on the sphinx rendered scikit-learn.org. See: https://github.com/scikit-learn/scikit-learn/issues/21755 */display: inline-block !important;position: relative;}#sk-container-id-3 div.sk-text-repr-fallback {display: none;}</style><div id=\"sk-container-id-3\" class=\"sk-top-container\"><div class=\"sk-text-repr-fallback\"><pre>MLPClassifier(batch_size=128, hidden_layer_sizes=(10,), max_iter=10)</pre><b>In a Jupyter environment, please rerun this cell to show the HTML representation or trust the notebook. <br />On GitHub, the HTML representation is unable to render, please try loading this page with nbviewer.org.</b></div><div class=\"sk-container\" hidden><div class=\"sk-item\"><div class=\"sk-estimator sk-toggleable\"><input class=\"sk-toggleable__control sk-hidden--visually\" id=\"sk-estimator-id-3\" type=\"checkbox\" checked><label for=\"sk-estimator-id-3\" class=\"sk-toggleable__label sk-toggleable__label-arrow\">MLPClassifier</label><div class=\"sk-toggleable__content\"><pre>MLPClassifier(batch_size=128, hidden_layer_sizes=(10,), max_iter=10)</pre></div></div></div></div></div>"
      ],
      "text/plain": [
       "MLPClassifier(batch_size=128, hidden_layer_sizes=(10,), max_iter=10)"
      ]
     },
     "execution_count": 28,
     "metadata": {},
     "output_type": "execute_result"
    }
   ],
   "source": [
    "mlp.fit(X_train, y_train)"
   ]
  },
  {
   "cell_type": "code",
   "execution_count": 29,
   "id": "2533ebc8",
   "metadata": {},
   "outputs": [],
   "source": [
    "# 预测测试集的label\n",
    "y_pred_mlp = mlp.predict(X_test)"
   ]
  },
  {
   "cell_type": "code",
   "execution_count": 30,
   "id": "033501db",
   "metadata": {},
   "outputs": [],
   "source": [
    "# 计算MLP模型评估指标\n",
    "accuracy_mlp = accuracy_score(y_test, y_pred_mlp)\n",
    "precision_mlp = precision_score(y_test, y_pred_mlp)\n",
    "recall_mlp = recall_score(y_test, y_pred_mlp)\n",
    "f1_mlp = f1_score(y_test, y_pred_mlp)"
   ]
  },
  {
   "cell_type": "code",
   "execution_count": 31,
   "id": "c4b8a91e",
   "metadata": {},
   "outputs": [
    {
     "name": "stdout",
     "output_type": "stream",
     "text": [
      "\n",
      "Multi-layer Perceptron:\n",
      "Accuracy: 0.9346246973365617\n",
      "Precision: 0.9678770949720671\n",
      "Recall: 0.8985413290113452\n",
      "F1 Score: 0.9319213313161876\n"
     ]
    }
   ],
   "source": [
    "print('\\nMulti-layer Perceptron:')\n",
    "print('Accuracy:', accuracy_mlp)\n",
    "print('Precision:', precision_mlp)\n",
    "print('Recall:', recall_mlp)\n",
    "print('F1 Score:', f1_mlp)"
   ]
  },
  {
   "cell_type": "code",
   "execution_count": 34,
   "id": "e2ac6bf3",
   "metadata": {},
   "outputs": [
    {
     "name": "stdout",
     "output_type": "stream",
     "text": [
      "MLP模型: [1]\n"
     ]
    }
   ],
   "source": [
    "# 将新的tweet_content转换为特征向量\n",
    "# new_tweet_content = ['这是 一条 新的 正常 推文']\n",
    "\n",
    "# depressed content\n",
    "new_tweet_content = ['思 诺思 舒乐安定 代开 疫情 期间 开药 困难 开药 断药 关注 南京 兼职 超话志道 合盆友 解释 快 超话 传送门 南京 兼职']\n",
    "\n",
    "\n",
    "# feature extraction\n",
    "new_X = vectorizer.transform(new_tweet_content)\n",
    "\n",
    "# 使用MLP模型进行预测\n",
    "new_y_pred_mlp = mlp.predict(new_X)\n",
    "\n",
    "print('MLP模型:', new_y_pred_mlp)"
   ]
  },
  {
   "cell_type": "code",
   "execution_count": null,
   "id": "ec0a5a49",
   "metadata": {},
   "outputs": [],
   "source": []
  },
  {
   "cell_type": "code",
   "execution_count": null,
   "id": "0af38927",
   "metadata": {},
   "outputs": [],
   "source": []
  },
  {
   "cell_type": "code",
   "execution_count": null,
   "id": "3c96b7cb",
   "metadata": {},
   "outputs": [],
   "source": []
  },
  {
   "cell_type": "code",
   "execution_count": null,
   "id": "bd47cd88",
   "metadata": {},
   "outputs": [],
   "source": []
  }
 ],
 "metadata": {
  "kernelspec": {
   "display_name": "Python 3 (ipykernel)",
   "language": "python",
   "name": "python3"
  },
  "language_info": {
   "codemirror_mode": {
    "name": "ipython",
    "version": 3
   },
   "file_extension": ".py",
   "mimetype": "text/x-python",
   "name": "python",
   "nbconvert_exporter": "python",
   "pygments_lexer": "ipython3",
   "version": "3.9.13"
  }
 },
 "nbformat": 4,
 "nbformat_minor": 5
}
