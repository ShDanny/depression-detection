{
 "cells": [
  {
   "cell_type": "code",
   "execution_count": 2,
   "id": "ba0baef3",
   "metadata": {},
   "outputs": [],
   "source": [
    "import os"
   ]
  },
  {
   "cell_type": "code",
   "execution_count": 3,
   "id": "24e0e1cf",
   "metadata": {},
   "outputs": [
    {
     "name": "stdout",
     "output_type": "stream",
     "text": [
      "Done\n"
     ]
    }
   ],
   "source": [
    "\n",
    "# set the path and file's name\n",
    "folder_path = r\"C:\\Users\\lenovo\\Desktop\\UM\\Jupyter_python_study\\stopwords\"\n",
    "merged_file_name = \"merged_stopwords2.txt\"\n",
    "\n",
    "# set a set\n",
    "data_set = set()\n",
    "\n",
    "# add all files to the set\n",
    "for root, dirs, files in os.walk(folder_path):\n",
    "    for file in files:\n",
    "        if file.endswith(\".txt\"):\n",
    "            with open(os.path.join(root, file), \"r\", encoding=\"utf-8\") as f:\n",
    "                for line in f:\n",
    "                    data_set.add(line.strip())\n",
    "\n",
    "# merge all files\n",
    "with open(os.path.join(folder_path, merged_file_name), \"w\", encoding=\"utf-8\") as f:\n",
    "    for data in data_set:\n",
    "        f.write(data + \"\\n\")\n",
    "\n",
    "print(\"Done\")"
   ]
  }
 ],
 "metadata": {
  "kernelspec": {
   "display_name": "Python 3 (ipykernel)",
   "language": "python",
   "name": "python3"
  },
  "language_info": {
   "codemirror_mode": {
    "name": "ipython",
    "version": 3
   },
   "file_extension": ".py",
   "mimetype": "text/x-python",
   "name": "python",
   "nbconvert_exporter": "python",
   "pygments_lexer": "ipython3",
   "version": "3.9.13"
  }
 },
 "nbformat": 4,
 "nbformat_minor": 5
}
